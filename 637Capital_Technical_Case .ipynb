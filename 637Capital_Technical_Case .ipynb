{
  "nbformat": 4,
  "nbformat_minor": 0,
  "metadata": {
    "colab": {
      "provenance": []
    },
    "kernelspec": {
      "name": "python3",
      "display_name": "Python 3"
    },
    "language_info": {
      "name": "python"
    }
  },
  "cells": [
    {
      "cell_type": "markdown",
      "source": [
        "# **Data Analysis**"
      ],
      "metadata": {
        "id": "AJWkYH9ZdCBa"
      }
    },
    {
      "cell_type": "markdown",
      "source": [
        "# Import Libraries"
      ],
      "metadata": {
        "id": "W_vL6ecsdb3D"
      }
    },
    {
      "cell_type": "code",
      "source": [
        "import pandas as pd\n",
        "import matplotlib.pyplot as plt\n",
        "import numpy as np\n",
        "from sklearn.metrics.pairwise import cosine_similarity"
      ],
      "metadata": {
        "id": "Q4obzoHBdlaa"
      },
      "execution_count": 1,
      "outputs": []
    },
    {
      "cell_type": "markdown",
      "source": [
        "### **1. Load the Raw Data**"
      ],
      "metadata": {
        "id": "JorfGB3ydwgo"
      }
    },
    {
      "cell_type": "code",
      "source": [
        "from google.colab import files\n",
        "def getLocalFiles():\n",
        "    _files = files.upload()\n",
        "    if len(_files) >0:\n",
        "       for k,v in _files.items():\n",
        "         open(k,'wb').write(v)\n",
        "getLocalFiles()"
      ],
      "metadata": {
        "colab": {
          "base_uri": "https://localhost:8080/",
          "height": 73
        },
        "id": "Zno8UlKreDEn",
        "outputId": "3ca551ad-6e07-4643-e7ce-e3fcaf4b1b66"
      },
      "execution_count": 2,
      "outputs": [
        {
          "output_type": "display_data",
          "data": {
            "text/plain": [
              "<IPython.core.display.HTML object>"
            ],
            "text/html": [
              "\n",
              "     <input type=\"file\" id=\"files-27ac0593-7e93-460a-83ee-db172cbe25d5\" name=\"files[]\" multiple disabled\n",
              "        style=\"border:none\" />\n",
              "     <output id=\"result-27ac0593-7e93-460a-83ee-db172cbe25d5\">\n",
              "      Upload widget is only available when the cell has been executed in the\n",
              "      current browser session. Please rerun this cell to enable.\n",
              "      </output>\n",
              "      <script>// Copyright 2017 Google LLC\n",
              "//\n",
              "// Licensed under the Apache License, Version 2.0 (the \"License\");\n",
              "// you may not use this file except in compliance with the License.\n",
              "// You may obtain a copy of the License at\n",
              "//\n",
              "//      http://www.apache.org/licenses/LICENSE-2.0\n",
              "//\n",
              "// Unless required by applicable law or agreed to in writing, software\n",
              "// distributed under the License is distributed on an \"AS IS\" BASIS,\n",
              "// WITHOUT WARRANTIES OR CONDITIONS OF ANY KIND, either express or implied.\n",
              "// See the License for the specific language governing permissions and\n",
              "// limitations under the License.\n",
              "\n",
              "/**\n",
              " * @fileoverview Helpers for google.colab Python module.\n",
              " */\n",
              "(function(scope) {\n",
              "function span(text, styleAttributes = {}) {\n",
              "  const element = document.createElement('span');\n",
              "  element.textContent = text;\n",
              "  for (const key of Object.keys(styleAttributes)) {\n",
              "    element.style[key] = styleAttributes[key];\n",
              "  }\n",
              "  return element;\n",
              "}\n",
              "\n",
              "// Max number of bytes which will be uploaded at a time.\n",
              "const MAX_PAYLOAD_SIZE = 100 * 1024;\n",
              "\n",
              "function _uploadFiles(inputId, outputId) {\n",
              "  const steps = uploadFilesStep(inputId, outputId);\n",
              "  const outputElement = document.getElementById(outputId);\n",
              "  // Cache steps on the outputElement to make it available for the next call\n",
              "  // to uploadFilesContinue from Python.\n",
              "  outputElement.steps = steps;\n",
              "\n",
              "  return _uploadFilesContinue(outputId);\n",
              "}\n",
              "\n",
              "// This is roughly an async generator (not supported in the browser yet),\n",
              "// where there are multiple asynchronous steps and the Python side is going\n",
              "// to poll for completion of each step.\n",
              "// This uses a Promise to block the python side on completion of each step,\n",
              "// then passes the result of the previous step as the input to the next step.\n",
              "function _uploadFilesContinue(outputId) {\n",
              "  const outputElement = document.getElementById(outputId);\n",
              "  const steps = outputElement.steps;\n",
              "\n",
              "  const next = steps.next(outputElement.lastPromiseValue);\n",
              "  return Promise.resolve(next.value.promise).then((value) => {\n",
              "    // Cache the last promise value to make it available to the next\n",
              "    // step of the generator.\n",
              "    outputElement.lastPromiseValue = value;\n",
              "    return next.value.response;\n",
              "  });\n",
              "}\n",
              "\n",
              "/**\n",
              " * Generator function which is called between each async step of the upload\n",
              " * process.\n",
              " * @param {string} inputId Element ID of the input file picker element.\n",
              " * @param {string} outputId Element ID of the output display.\n",
              " * @return {!Iterable<!Object>} Iterable of next steps.\n",
              " */\n",
              "function* uploadFilesStep(inputId, outputId) {\n",
              "  const inputElement = document.getElementById(inputId);\n",
              "  inputElement.disabled = false;\n",
              "\n",
              "  const outputElement = document.getElementById(outputId);\n",
              "  outputElement.innerHTML = '';\n",
              "\n",
              "  const pickedPromise = new Promise((resolve) => {\n",
              "    inputElement.addEventListener('change', (e) => {\n",
              "      resolve(e.target.files);\n",
              "    });\n",
              "  });\n",
              "\n",
              "  const cancel = document.createElement('button');\n",
              "  inputElement.parentElement.appendChild(cancel);\n",
              "  cancel.textContent = 'Cancel upload';\n",
              "  const cancelPromise = new Promise((resolve) => {\n",
              "    cancel.onclick = () => {\n",
              "      resolve(null);\n",
              "    };\n",
              "  });\n",
              "\n",
              "  // Wait for the user to pick the files.\n",
              "  const files = yield {\n",
              "    promise: Promise.race([pickedPromise, cancelPromise]),\n",
              "    response: {\n",
              "      action: 'starting',\n",
              "    }\n",
              "  };\n",
              "\n",
              "  cancel.remove();\n",
              "\n",
              "  // Disable the input element since further picks are not allowed.\n",
              "  inputElement.disabled = true;\n",
              "\n",
              "  if (!files) {\n",
              "    return {\n",
              "      response: {\n",
              "        action: 'complete',\n",
              "      }\n",
              "    };\n",
              "  }\n",
              "\n",
              "  for (const file of files) {\n",
              "    const li = document.createElement('li');\n",
              "    li.append(span(file.name, {fontWeight: 'bold'}));\n",
              "    li.append(span(\n",
              "        `(${file.type || 'n/a'}) - ${file.size} bytes, ` +\n",
              "        `last modified: ${\n",
              "            file.lastModifiedDate ? file.lastModifiedDate.toLocaleDateString() :\n",
              "                                    'n/a'} - `));\n",
              "    const percent = span('0% done');\n",
              "    li.appendChild(percent);\n",
              "\n",
              "    outputElement.appendChild(li);\n",
              "\n",
              "    const fileDataPromise = new Promise((resolve) => {\n",
              "      const reader = new FileReader();\n",
              "      reader.onload = (e) => {\n",
              "        resolve(e.target.result);\n",
              "      };\n",
              "      reader.readAsArrayBuffer(file);\n",
              "    });\n",
              "    // Wait for the data to be ready.\n",
              "    let fileData = yield {\n",
              "      promise: fileDataPromise,\n",
              "      response: {\n",
              "        action: 'continue',\n",
              "      }\n",
              "    };\n",
              "\n",
              "    // Use a chunked sending to avoid message size limits. See b/62115660.\n",
              "    let position = 0;\n",
              "    do {\n",
              "      const length = Math.min(fileData.byteLength - position, MAX_PAYLOAD_SIZE);\n",
              "      const chunk = new Uint8Array(fileData, position, length);\n",
              "      position += length;\n",
              "\n",
              "      const base64 = btoa(String.fromCharCode.apply(null, chunk));\n",
              "      yield {\n",
              "        response: {\n",
              "          action: 'append',\n",
              "          file: file.name,\n",
              "          data: base64,\n",
              "        },\n",
              "      };\n",
              "\n",
              "      let percentDone = fileData.byteLength === 0 ?\n",
              "          100 :\n",
              "          Math.round((position / fileData.byteLength) * 100);\n",
              "      percent.textContent = `${percentDone}% done`;\n",
              "\n",
              "    } while (position < fileData.byteLength);\n",
              "  }\n",
              "\n",
              "  // All done.\n",
              "  yield {\n",
              "    response: {\n",
              "      action: 'complete',\n",
              "    }\n",
              "  };\n",
              "}\n",
              "\n",
              "scope.google = scope.google || {};\n",
              "scope.google.colab = scope.google.colab || {};\n",
              "scope.google.colab._files = {\n",
              "  _uploadFiles,\n",
              "  _uploadFilesContinue,\n",
              "};\n",
              "})(self);\n",
              "</script> "
            ]
          },
          "metadata": {}
        },
        {
          "output_type": "stream",
          "name": "stdout",
          "text": [
            "Saving newmoviedata.txt to newmoviedata (3).txt\n"
          ]
        }
      ]
    },
    {
      "cell_type": "markdown",
      "source": [
        "### **2. Read and Parse the Data**"
      ],
      "metadata": {
        "id": "Eb0GIuisePgz"
      }
    },
    {
      "cell_type": "markdown",
      "source": [
        "The data is contained in a google doc in txt format. We therefore need to transform the raw data into a structured format that is suitable for analysis and algorithm development. Read the data from the text file and parse it into a more structured format using Pandas"
      ],
      "metadata": {
        "id": "6NYk57_meXuy"
      }
    },
    {
      "cell_type": "code",
      "source": [
        "file_path = 'newmoviedata.txt'"
      ],
      "metadata": {
        "id": "VfA-XOZAemTZ"
      },
      "execution_count": 3,
      "outputs": []
    },
    {
      "cell_type": "markdown",
      "source": [
        "Define column names"
      ],
      "metadata": {
        "id": "G-SDbySdfz6k"
      }
    },
    {
      "cell_type": "code",
      "source": [
        "columns = ['User', 'Movie', 'Rating']"
      ],
      "metadata": {
        "id": "6Y1YDU_dffsf"
      },
      "execution_count": 4,
      "outputs": []
    },
    {
      "cell_type": "markdown",
      "source": [
        "Read data into a DataFrame"
      ],
      "metadata": {
        "id": "BKDEtlr7f5s0"
      }
    },
    {
      "cell_type": "code",
      "source": [
        "data = pd.read_csv(file_path, names=columns)"
      ],
      "metadata": {
        "id": "6e_AEB2FfiU_"
      },
      "execution_count": 5,
      "outputs": []
    },
    {
      "cell_type": "markdown",
      "source": [
        "Display the first few rows to verify the data is loaded correctly"
      ],
      "metadata": {
        "id": "7OTIg-KXgBXF"
      }
    },
    {
      "cell_type": "code",
      "source": [
        "print(data.head())"
      ],
      "metadata": {
        "colab": {
          "base_uri": "https://localhost:8080/"
        },
        "id": "B4LtMXpPfqy3",
        "outputId": "9da4e701-d6c7-421e-d912-9a1b5bceb979"
      },
      "execution_count": 6,
      "outputs": [
        {
          "output_type": "stream",
          "name": "stdout",
          "text": [
            "    User          Movie Rating\n",
            "0  Alice      Star Wars      5\n",
            "1  Frank  The Godfather      4\n",
            "2    Bob        Titanic      5\n",
            "3  Carol     The Matrix      3\n",
            "4   Dave      Inception      2\n"
          ]
        }
      ]
    },
    {
      "cell_type": "markdown",
      "source": [
        "### **3. Clean The Data**"
      ],
      "metadata": {
        "id": "Nkr1mpVmkd_c"
      }
    },
    {
      "cell_type": "markdown",
      "source": [
        "**Convert Data Types**\n",
        "\n",
        "Ensure that the 'Rating' column is of the appropriate numeric data type.Convert non-numeric values to NaN"
      ],
      "metadata": {
        "id": "fGh7AMCdknqQ"
      }
    },
    {
      "cell_type": "code",
      "source": [
        "data['Rating'] = pd.to_numeric(data['Rating'], errors='coerce')"
      ],
      "metadata": {
        "id": "USVRFx4dkuix"
      },
      "execution_count": 7,
      "outputs": []
    },
    {
      "cell_type": "markdown",
      "source": [
        "**Handling Missing Values**"
      ],
      "metadata": {
        "id": "WDvoJ5QCoyu8"
      }
    },
    {
      "cell_type": "markdown",
      "source": [
        "Fill NaN values with a specific default value, in this case we will use the mean rating."
      ],
      "metadata": {
        "id": "40vyMsDsnCcA"
      }
    },
    {
      "cell_type": "code",
      "source": [
        "data['Rating'].fillna(data['Rating'].mean(), inplace=True)"
      ],
      "metadata": {
        "id": "DolXbG_snqGe"
      },
      "execution_count": 8,
      "outputs": []
    },
    {
      "cell_type": "code",
      "source": [
        "# Verify the changes\n",
        "print(data['Rating'])"
      ],
      "metadata": {
        "colab": {
          "base_uri": "https://localhost:8080/"
        },
        "id": "bvmj2pfHoUJa",
        "outputId": "03c012cc-ab02-4d75-f3c7-7a5d3dd8d86e"
      },
      "execution_count": 9,
      "outputs": [
        {
          "output_type": "stream",
          "name": "stdout",
          "text": [
            "0     5.00\n",
            "1     4.00\n",
            "2     5.00\n",
            "3     3.00\n",
            "4     2.00\n",
            "5     4.00\n",
            "6     5.00\n",
            "7     2.00\n",
            "8     3.00\n",
            "9     4.00\n",
            "10    4.00\n",
            "11    5.00\n",
            "12    4.00\n",
            "13    5.00\n",
            "14    3.00\n",
            "15    5.00\n",
            "16    4.00\n",
            "17    5.00\n",
            "18    3.00\n",
            "19    4.00\n",
            "20    4.00\n",
            "21    1.00\n",
            "22    4.00\n",
            "23    5.00\n",
            "24    3.00\n",
            "25    5.00\n",
            "26    3.00\n",
            "27    3.00\n",
            "28    4.00\n",
            "29    5.00\n",
            "30    5.00\n",
            "31    4.00\n",
            "32    3.89\n",
            "33    3.89\n",
            "34    5.00\n",
            "35    2.00\n",
            "36    4.00\n",
            "37    4.00\n",
            "38    2.00\n",
            "39    4.00\n",
            "40    3.89\n",
            "41    3.89\n",
            "42    4.00\n",
            "43    3.50\n",
            "44    5.00\n",
            "45    3.89\n",
            "46    3.50\n",
            "47    5.00\n",
            "48    3.89\n",
            "49    3.50\n",
            "50    3.89\n",
            "51    3.89\n",
            "52    4.00\n",
            "53    5.00\n",
            "54    3.00\n",
            "55    3.00\n",
            "56    5.00\n",
            "57    4.00\n",
            "Name: Rating, dtype: float64\n"
          ]
        }
      ]
    },
    {
      "cell_type": "markdown",
      "source": [
        "### **4. Exploratory Data Analysis (EDA)**"
      ],
      "metadata": {
        "id": "rV6mw-brpbUo"
      }
    },
    {
      "cell_type": "code",
      "source": [
        "# Explore the distribution of movie ratings\n",
        "plt.figure(figsize=(10, 6))\n",
        "data['Rating'].hist(bins=5, edgecolor='black')\n",
        "plt.title('Distribution of Movie Ratings')\n",
        "plt.xlabel('Rating')\n",
        "plt.ylabel('Number of Ratings')\n",
        "plt.show()"
      ],
      "metadata": {
        "colab": {
          "base_uri": "https://localhost:8080/",
          "height": 564
        },
        "id": "zphMolrHqjig",
        "outputId": "3edd0138-ea42-4fc3-efec-44bb1eee76ce"
      },
      "execution_count": 10,
      "outputs": [
        {
          "output_type": "display_data",
          "data": {
            "text/plain": [
              "<Figure size 1000x600 with 1 Axes>"
            ],
            "image/png": "[encoded data removed]"
          },
          "metadata": {}
        }
      ]
    },
    {
      "cell_type": "code",
      "source": [
        "# Identify popular movies\n",
        "popular_movies = data['Movie'].value_counts().head(10)\n",
        "print(\"\\nTop 10 Popular Movies:\")\n",
        "print(popular_movies)"
      ],
      "metadata": {
        "colab": {
          "base_uri": "https://localhost:8080/"
        },
        "id": "JLCN4ydNqxo_",
        "outputId": "014a693e-f79e-4713-c666-d54acf845d03"
      },
      "execution_count": 11,
      "outputs": [
        {
          "output_type": "stream",
          "name": "stdout",
          "text": [
            "\n",
            "Top 10 Popular Movies:\n",
            "Inception        11\n",
            "Star Wars         9\n",
            "Forrest Gump      9\n",
            "The Matrix        8\n",
            "Pulp Fiction      8\n",
            "The Godfather     7\n",
            "Titanic           5\n",
            "Matrix            1\n",
            "Name: Movie, dtype: int64\n"
          ]
        }
      ]
    },
    {
      "cell_type": "code",
      "source": [
        "# Calculate average ratings for each movie\n",
        "average_ratings = data.groupby('Movie')['Rating'].mean().sort_values(ascending=False)\n",
        "print(\"\\nAverage Ratings for Each Movie:\")\n",
        "print(average_ratings.head(10))"
      ],
      "metadata": {
        "colab": {
          "base_uri": "https://localhost:8080/"
        },
        "id": "JGmBR_l-rRWE",
        "outputId": "1c0307ea-bf56-45a1-d3bd-76a6ff74f9ed"
      },
      "execution_count": 12,
      "outputs": [
        {
          "output_type": "stream",
          "name": "stdout",
          "text": [
            "\n",
            "Average Ratings for Each Movie:\n",
            "Movie\n",
            "The Godfather    4.412857\n",
            "Titanic          4.400000\n",
            "Star Wars        4.308889\n",
            "Forrest Gump     3.944444\n",
            "Matrix           3.890000\n",
            "Pulp Fiction     3.673750\n",
            "The Matrix       3.673750\n",
            "Inception        3.252727\n",
            "Name: Rating, dtype: float64\n"
          ]
        }
      ]
    },
    {
      "cell_type": "code",
      "source": [
        "# Analyze user behavior - How often users rate movies\n",
        "user_rating_counts = data['User'].value_counts()\n",
        "average_ratings_per_user = user_rating_counts.mean()\n",
        "print(\"\\nAverage Ratings Given by Each User:\")\n",
        "print(average_ratings_per_user)"
      ],
      "metadata": {
        "colab": {
          "base_uri": "https://localhost:8080/"
        },
        "id": "oBqJ5JArrXlQ",
        "outputId": "534af857-3c62-4346-8ea7-3ba162c2a8bd"
      },
      "execution_count": 13,
      "outputs": [
        {
          "output_type": "stream",
          "name": "stdout",
          "text": [
            "\n",
            "Average Ratings Given by Each User:\n",
            "2.6363636363636362\n"
          ]
        }
      ]
    },
    {
      "cell_type": "code",
      "source": [
        "# Distribution of the number of ratings given by each user\n",
        "plt.figure(figsize=(12, 6))\n",
        "user_rating_counts.hist(bins=50, edgecolor='black')\n",
        "plt.title('Distribution of Number of Ratings Given by Each User')\n",
        "plt.xlabel('Number of Ratings Given')\n",
        "plt.ylabel('Number of Users')\n",
        "plt.show()"
      ],
      "metadata": {
        "colab": {
          "base_uri": "https://localhost:8080/",
          "height": 564
        },
        "id": "bopzWuj6rm8I",
        "outputId": "114d580a-3500-4dc3-f2af-6d51672ae110"
      },
      "execution_count": 14,
      "outputs": [
        {
          "output_type": "display_data",
          "data": {
            "text/plain": [
              "<Figure size 1200x600 with 1 Axes>"
            ],
            "image/png": "[encoded data removed]"
          },
          "metadata": {}
        }
      ]
    },
    {
      "cell_type": "markdown",
      "source": [
        "# **Algorithm Development**"
      ],
      "metadata": {
        "id": "g9mW6F_ks3Jb"
      }
    },
    {
      "cell_type": "markdown",
      "source": [
        "###**1. User-Item Collaborative Filtering**"
      ],
      "metadata": {
        "id": "fAbtTynEtFI6"
      }
    },
    {
      "cell_type": "code",
      "source": [
        "# Develop a movie recommendation algorithm based on user ratings\n",
        "def collaborative_filtering_recommendation(user_name, user_item_matrix, movie_similarity_matrix):\n",
        "    # Get the user's ratings\n",
        "    user_ratings = user_item_matrix.loc[user_name]\n",
        "\n",
        "    # Calculate the weighted average of ratings based on movie similarity\n",
        "    recommendation_scores = user_item_matrix.dot(movie_similarity_matrix)\n",
        "    recommendation_scores = recommendation_scores.div(np.abs(movie_similarity_matrix).sum(axis=1))\n",
        "\n",
        "    # Exclude movies the user has already rated\n",
        "    rated_movies = user_ratings[user_ratings.notnull()].index\n",
        "    recommendation_scores = recommendation_scores.drop(rated_movies, axis=1)\n",
        "\n",
        "    # Sort recommendations by score in descending order\n",
        "    recommendations = recommendation_scores.loc[user_name].sort_values(ascending=False)\n",
        "\n",
        "    return recommendations"
      ],
      "metadata": {
        "id": "qNPD4m2_tJ-Q"
      },
      "execution_count": 15,
      "outputs": []
    },
    {
      "cell_type": "markdown",
      "source": [
        "###**2. Data Handling**"
      ],
      "metadata": {
        "id": "R31_M-uBuSDw"
      }
    },
    {
      "cell_type": "code",
      "source": [
        "# Implement robust measures to handle irregular or incomplete data\n",
        "def handle_missing_values(data):\n",
        "    #Ensure that the 'Rating' column is of the appropriate numeric data type.Convert non-numeric values to NaN\n",
        "    data['Rating'] = pd.to_numeric(data['Rating'], errors='coerce')\n",
        "    # Fill missing values with the mean rating\n",
        "    data['Rating'].fillna(data['Rating'].mean(), inplace=True)"
      ],
      "metadata": {
        "id": "rkpY6AG6uWVd"
      },
      "execution_count": 16,
      "outputs": []
    },
    {
      "cell_type": "markdown",
      "source": [
        "###**3. Fallback System**"
      ],
      "metadata": {
        "id": "0gZ-VzhDud4r"
      }
    },
    {
      "cell_type": "code",
      "source": [
        "# Create a fallback system that recommends popular movies if a user's data doesn't provide enough information\n",
        "def fallback_recommendation(user_name, popular_movies):\n",
        "    return popular_movies"
      ],
      "metadata": {
        "id": "gaAnpfPBuocY"
      },
      "execution_count": 17,
      "outputs": []
    },
    {
      "cell_type": "markdown",
      "source": [
        "###**4. Implementation on our Sample Data**"
      ],
      "metadata": {
        "id": "_12Q-Snvw4X4"
      }
    },
    {
      "cell_type": "code",
      "source": [
        "# Create user-item matrix\n",
        "user_item_matrix = data.pivot_table(index='User', columns='Movie', values='Rating', fill_value=0)"
      ],
      "metadata": {
        "id": "4yJzydLhxAJ0"
      },
      "execution_count": 18,
      "outputs": []
    },
    {
      "cell_type": "code",
      "source": [
        "# Calculate movie similarity using cosine similarity\n",
        "movie_similarity_matrix = pd.DataFrame(cosine_similarity(user_item_matrix.T), index=user_item_matrix.columns, columns=user_item_matrix.columns)"
      ],
      "metadata": {
        "id": "WK43N0HGxaqD"
      },
      "execution_count": 19,
      "outputs": []
    },
    {
      "cell_type": "code",
      "source": [
        "# Example: Collaborative filtering recommendation\n",
        "user_name = 'Alice'\n",
        "recommendations = collaborative_filtering_recommendation(user_name, user_item_matrix, movie_similarity_matrix)"
      ],
      "metadata": {
        "id": "eYsgKlaZxgSb"
      },
      "execution_count": 20,
      "outputs": []
    },
    {
      "cell_type": "code",
      "source": [
        "# Display top 5 recommendations\n",
        "print(f\"\\nCollaborative Filtering Recommendations for {user_name}:\")\n",
        "print(recommendations.head(5))"
      ],
      "metadata": {
        "colab": {
          "base_uri": "https://localhost:8080/"
        },
        "id": "59kfCaVc_gH2",
        "outputId": "03d5bd1d-0295-44b8-8467-160f5b38bdc1"
      },
      "execution_count": 21,
      "outputs": [
        {
          "output_type": "stream",
          "name": "stdout",
          "text": [
            "\n",
            "Collaborative Filtering Recommendations for Alice:\n",
            "Series([], Name: Alice, dtype: float64)\n"
          ]
        }
      ]
    },
    {
      "cell_type": "code",
      "source": [
        "# Example: Fallback recommendation\n",
        "popular_movies = data.groupby('Movie')['Rating'].count().sort_values(ascending=False).index\n",
        "fallback_recommendations = fallback_recommendation(user_name, popular_movies)"
      ],
      "metadata": {
        "id": "tGyBCEkH__IG"
      },
      "execution_count": 22,
      "outputs": []
    },
    {
      "cell_type": "code",
      "source": [
        "# Display top 5 fallback recommendations\n",
        "print(f\"\\nFallback Recommendations for {user_name}:\")\n",
        "print(fallback_recommendations[:5])"
      ],
      "metadata": {
        "colab": {
          "base_uri": "https://localhost:8080/"
        },
        "id": "u4tAEMrvADDq",
        "outputId": "605433ee-375a-4f46-9bf0-d849ef780a9e"
      },
      "execution_count": 23,
      "outputs": [
        {
          "output_type": "stream",
          "name": "stdout",
          "text": [
            "\n",
            "Fallback Recommendations for Alice:\n",
            "Index(['Inception', 'Forrest Gump', 'Star Wars', 'Pulp Fiction', 'The Matrix'], dtype='object', name='Movie')\n"
          ]
        }
      ]
    },
    {
      "cell_type": "markdown",
      "source": [
        "# **User Interface Design**"
      ],
      "metadata": {
        "id": "QognhmC-Bkca"
      }
    },
    {
      "cell_type": "code",
      "source": [
        "# CLI Implementation\n",
        "def main():\n",
        "    # Load data and handle missing values\n",
        "    data = pd.read_csv(file_path, names=columns)\n",
        "    handle_missing_values(data)\n",
        "\n",
        "    # Create user-item matrix\n",
        "    user_item_matrix = data.pivot_table(index='User', columns='Movie', values='Rating', fill_value=0)\n",
        "\n",
        "    # Calculate movie similarity using cosine similarity\n",
        "    movie_similarity_matrix = pd.DataFrame(cosine_similarity(user_item_matrix.T), index=user_item_matrix.columns, columns=user_item_matrix.columns)\n",
        "\n",
        "    # Get user input\n",
        "    user_name = input(\"Enter your name: \")\n",
        "\n",
        "    # Collaborative filtering recommendation\n",
        "    recommendations = collaborative_filtering_recommendation(user_name, user_item_matrix, movie_similarity_matrix)\n",
        "\n",
        "    if recommendations.empty:\n",
        "        # Fallback recommendation\n",
        "        popular_movies = data.groupby('Movie')['Rating'].count().sort_values(ascending=False).index\n",
        "        fallback_recommendations = fallback_recommendation(user_name, popular_movies)\n",
        "        print(f\"\\nFallback Recommendations for {user_name}:\")\n",
        "        print(fallback_recommendations[:5])\n",
        "    else:\n",
        "        # Display top 5 collaborative filtering recommendations\n",
        "        print(f\"\\nCollaborative Filtering Recommendations for {user_name}:\")\n",
        "        print(recommendations.head(5))\n",
        "\n",
        "if __name__ == \"__main__\":\n",
        "    main()"
      ],
      "metadata": {
        "colab": {
          "base_uri": "https://localhost:8080/"
        },
        "id": "3hIvCxjhPSy6",
        "outputId": "5b9a00eb-1c71-45c8-911a-7b045879ff57"
      },
      "execution_count": 24,
      "outputs": [
        {
          "output_type": "stream",
          "name": "stdout",
          "text": [
            "Enter your name: Frank\n",
            "\n",
            "Fallback Recommendations for Frank:\n",
            "Index(['Inception', 'Forrest Gump', 'Star Wars', 'Pulp Fiction', 'The Matrix'], dtype='object', name='Movie')\n"
          ]
        }
      ]
    }
  ]
}